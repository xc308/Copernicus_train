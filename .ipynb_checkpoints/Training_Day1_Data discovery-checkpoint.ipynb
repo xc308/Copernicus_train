{
 "cells": [
  {
   "cell_type": "markdown",
   "metadata": {},
   "source": [
    "## Obtain ADS API key"
   ]
  },
  {
   "cell_type": "code",
   "execution_count": 2,
   "metadata": {},
   "outputs": [],
   "source": [
    "ADS_URL = \"https://ads.atmosphere.copernicus.eu/api/v2\"\n",
    "\n",
    "ADS_KEY = \"8089:4c1cd739-4ef0-43c2-be7f-3120e8d7c96f\""
   ]
  },
  {
   "cell_type": "markdown",
   "metadata": {},
   "source": [
    "## Install API\n",
    "\n",
    "- Install the API that will allow you to download CAMS data programmatically\n",
    "- Note: Using a command without ! in the terminal is the same as using the command with ! in a Jupyter notebook"
   ]
  },
  {
   "cell_type": "code",
   "execution_count": 3,
   "metadata": {},
   "outputs": [
    {
     "name": "stdout",
     "output_type": "stream",
     "text": [
      "Collecting cdsapi\n",
      "  Downloading cdsapi-0.5.1.tar.gz (12 kB)\n",
      "Requirement already satisfied: requests>=2.5.0 in /Users/xchen/opt/miniconda3/lib/python3.9/site-packages (from cdsapi) (2.25.1)\n",
      "Requirement already satisfied: tqdm in /Users/xchen/opt/miniconda3/lib/python3.9/site-packages (from cdsapi) (4.61.2)\n",
      "Requirement already satisfied: certifi>=2017.4.17 in /Users/xchen/opt/miniconda3/lib/python3.9/site-packages (from requests>=2.5.0->cdsapi) (2021.10.8)\n",
      "Requirement already satisfied: urllib3<1.27,>=1.21.1 in /Users/xchen/opt/miniconda3/lib/python3.9/site-packages (from requests>=2.5.0->cdsapi) (1.26.6)\n",
      "Requirement already satisfied: chardet<5,>=3.0.2 in /Users/xchen/opt/miniconda3/lib/python3.9/site-packages (from requests>=2.5.0->cdsapi) (4.0.0)\n",
      "Requirement already satisfied: idna<3,>=2.5 in /Users/xchen/opt/miniconda3/lib/python3.9/site-packages (from requests>=2.5.0->cdsapi) (2.10)\n",
      "Building wheels for collected packages: cdsapi\n",
      "  Building wheel for cdsapi (setup.py) ... \u001b[?25ldone\n",
      "\u001b[?25h  Created wheel for cdsapi: filename=cdsapi-0.5.1-py2.py3-none-any.whl size=11688 sha256=b8067e978bf96b7bcf1c083def836e2f6f227e94b1a6d5331126fb08eebd461d\n",
      "  Stored in directory: /Users/xchen/Library/Caches/pip/wheels/8b/19/90/0f30bd354f0c245f87c1d7639466d05c6b028d3acb4a64cbed\n",
      "Successfully built cdsapi\n",
      "Installing collected packages: cdsapi\n",
      "Successfully installed cdsapi-0.5.1\n"
     ]
    }
   ],
   "source": [
    "!pip install cdsapi"
   ]
  },
  {
   "cell_type": "markdown",
   "metadata": {},
   "source": [
    "## Import libraries"
   ]
  },
  {
   "cell_type": "code",
   "execution_count": 9,
   "metadata": {},
   "outputs": [],
   "source": [
    "# CDS API\n",
    "import cdsapi\n",
    "\n",
    "# For working with multidimensional array\n",
    "import numpy as np\n",
    "import xarray as xr\n",
    "# ref: http://xarray.pydata.org/en/stable/getting-started-guide/installing.html\n",
    "\n",
    "\n",
    "# For plotting and visualising data\n",
    "%matplotlib inline\n",
    "import matplotlib.path as mpath\n",
    "import matplotlib.pyplot as plt\n",
    "import cartopy.crs as ccrs\n",
    "from cartopy.mpl.gridliner import LONGITUDE_FORMATTER, LATITUDE_FORMATTER\n",
    "import cartopy.feature as cfeature\n",
    "\n",
    "# Others  ??\n",
    "from zipfile import ZipFile   \n",
    "from IPython.display import clear_output  \n",
    "from time import sleep  \n"
   ]
  },
  {
   "cell_type": "code",
   "execution_count": null,
   "metadata": {},
   "outputs": [],
   "source": []
  },
  {
   "cell_type": "markdown",
   "metadata": {},
   "source": [
    "## CAMS global atmospheric composition data\n",
    "\n",
    "- Search for data on the ADS; ADS website: https://ads.atmosphere.copernicus.eu \n",
    "- search: CAMS global atmospheric composition forecasts\n",
    "\n",
    "\n",
    "\n",
    "\n"
   ]
  },
  {
   "cell_type": "code",
   "execution_count": 7,
   "metadata": {},
   "outputs": [
    {
     "name": "stderr",
     "output_type": "stream",
     "text": [
      "/Users/xchen/opt/miniconda3/lib/python3.9/site-packages/urllib3/connectionpool.py:1013: InsecureRequestWarning: Unverified HTTPS request is being made to host 'ads.atmosphere.copernicus.eu'. Adding certificate verification is strongly advised. See: https://urllib3.readthedocs.io/en/1.26.x/advanced-usage.html#ssl-warnings\n",
      "  warnings.warn(\n",
      "2021-12-05 22:33:45,106 INFO Welcome to the CDS\n",
      "2021-12-05 22:33:45,107 INFO Sending request to https://ads.atmosphere.copernicus.eu/api/v2/resources/cams-global-atmospheric-composition-forecasts\n",
      "/Users/xchen/opt/miniconda3/lib/python3.9/site-packages/urllib3/connectionpool.py:1013: InsecureRequestWarning: Unverified HTTPS request is being made to host 'ads.atmosphere.copernicus.eu'. Adding certificate verification is strongly advised. See: https://urllib3.readthedocs.io/en/1.26.x/advanced-usage.html#ssl-warnings\n",
      "  warnings.warn(\n",
      "2021-12-05 22:33:45,169 INFO Request is completed\n",
      "2021-12-05 22:33:45,170 INFO Downloading https://download-0003.copernicus-atmosphere.eu/cache-compute-0003/cache/data1/adaptor.mars_constrained.external-1637877067.6985812-16048-3-ad18cc54-2e99-4799-87e6-bccb87dded35.zip to download.netcdf_zip (9.5M)\n",
      "/Users/xchen/opt/miniconda3/lib/python3.9/site-packages/urllib3/connectionpool.py:1013: InsecureRequestWarning: Unverified HTTPS request is being made to host 'download-0003.copernicus-atmosphere.eu'. Adding certificate verification is strongly advised. See: https://urllib3.readthedocs.io/en/1.26.x/advanced-usage.html#ssl-warnings\n",
      "  warnings.warn(\n",
      "2021-12-05 22:33:47,366 INFO Download rate 4.3M/s   \n"
     ]
    },
    {
     "data": {
      "text/plain": [
       "Result(content_length=9954624,content_type=application/zip,location=https://download-0003.copernicus-atmosphere.eu/cache-compute-0003/cache/data1/adaptor.mars_constrained.external-1637877067.6985812-16048-3-ad18cc54-2e99-4799-87e6-bccb87dded35.zip)"
      ]
     },
     "execution_count": 7,
     "metadata": {},
     "output_type": "execute_result"
    }
   ],
   "source": [
    "import cdsapi\n",
    "\n",
    "c = cdsapi.Client(url = ADS_URL, key = ADS_KEY)\n",
    "\n",
    "c.retrieve(\n",
    "    'cams-global-atmospheric-composition-forecasts',\n",
    "    {\n",
    "        'date': '2021-08-01/2021-08-08',\n",
    "        'type': 'forecast',\n",
    "        'format': 'netcdf_zip',\n",
    "        'variable': [\n",
    "            'dust_aerosol_optical_depth_550nm', 'organic_matter_aerosol_optical_depth_550nm', 'total_aerosol_optical_depth_550nm',\n",
    "        ],\n",
    "        'time': [\n",
    "            '00:00', '12:00',\n",
    "        ],\n",
    "        'leadtime_hour': '0',\n",
    "        'area': [\n",
    "            80, -150, 25,\n",
    "            150,\n",
    "        ],\n",
    "    },\n",
    "    'download.netcdf_zip')"
   ]
  },
  {
   "cell_type": "code",
   "execution_count": null,
   "metadata": {},
   "outputs": [],
   "source": []
  },
  {
   "cell_type": "markdown",
   "metadata": {
    "collapsed": true
   },
   "source": [
    "## Read Data\n",
    "- Have requested the data in NetCDF format, a commonly used format for gridded (array-based) scientific data\n",
    "- To read and process this data we will make use of the Xarray library\n",
    "- Xarray is an open source project and Python package that makes working with labelled multi-dimensional arrays simple and efficient\n",
    "- read the data from our NetCDF file into an Xarray \"dataset\""
   ]
  },
  {
   "cell_type": "code",
   "execution_count": 13,
   "metadata": {},
   "outputs": [],
   "source": [
    "# Creat a ZipFile Object and load zip file in it\n",
    "       \n",
    "with ZipFile(f'./2021-08_NHemisphere_AQ.zip', 'r') as zipObj:\n",
    "    zipObj.extractall(path = f'./2021-08_NHemisphere_AQ/')"
   ]
  },
  {
   "cell_type": "markdown",
   "metadata": {},
   "source": [
    "Rename the file (data.nc) name in the 2021-08_NHemisphere_AQ folder"
   ]
  },
  {
   "cell_type": "code",
   "execution_count": 14,
   "metadata": {},
   "outputs": [],
   "source": [
    "fn = f'./2021-08_NHemisphere_AQ/data.nc'"
   ]
  },
  {
   "cell_type": "markdown",
   "metadata": {},
   "source": [
    "Now read the data into Xarray dataset"
   ]
  },
  {
   "cell_type": "code",
   "execution_count": 16,
   "metadata": {},
   "outputs": [],
   "source": [
    "# Create Xarray Dataset\n",
    "ds = xr.open_dataset(fn)\n",
    "\n",
    "# ref:https://github.com/ecmwf/eccodes-python#system-dependencies"
   ]
  },
  {
   "cell_type": "code",
   "execution_count": null,
   "metadata": {},
   "outputs": [],
   "source": []
  },
  {
   "cell_type": "code",
   "execution_count": null,
   "metadata": {},
   "outputs": [],
   "source": []
  },
  {
   "cell_type": "code",
   "execution_count": null,
   "metadata": {},
   "outputs": [],
   "source": []
  },
  {
   "cell_type": "code",
   "execution_count": null,
   "metadata": {},
   "outputs": [],
   "source": []
  },
  {
   "cell_type": "code",
   "execution_count": null,
   "metadata": {},
   "outputs": [],
   "source": []
  },
  {
   "cell_type": "code",
   "execution_count": null,
   "metadata": {},
   "outputs": [],
   "source": []
  }
 ],
 "metadata": {
  "kernelspec": {
   "display_name": "Python 3",
   "language": "python",
   "name": "python3"
  },
  "language_info": {
   "codemirror_mode": {
    "name": "ipython",
    "version": 3
   },
   "file_extension": ".py",
   "mimetype": "text/x-python",
   "name": "python",
   "nbconvert_exporter": "python",
   "pygments_lexer": "ipython3",
   "version": "3.9.5"
  }
 },
 "nbformat": 4,
 "nbformat_minor": 2
}
